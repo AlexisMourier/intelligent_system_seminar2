{
 "cells": [
  {
   "cell_type": "code",
   "execution_count": 1,
   "metadata": {},
   "outputs": [],
   "source": [
    "import json\n",
    "import spacy\n",
    "import numpy as np\n",
    "import pandas as pd\n",
    "import matplotlib.pyplot as plt\n",
    "\n",
    "from sklearn.model_selection import train_test_split\n",
    "from sklearn.feature_extraction.text import CountVectorizer"
   ]
  },
  {
   "cell_type": "code",
   "execution_count": 2,
   "metadata": {},
   "outputs": [
    {
     "data": {
      "text/html": [
       "<div>\n",
       "<style scoped>\n",
       "    .dataframe tbody tr th:only-of-type {\n",
       "        vertical-align: middle;\n",
       "    }\n",
       "\n",
       "    .dataframe tbody tr th {\n",
       "        vertical-align: top;\n",
       "    }\n",
       "\n",
       "    .dataframe thead th {\n",
       "        text-align: right;\n",
       "    }\n",
       "</style>\n",
       "<table border=\"1\" class=\"dataframe\">\n",
       "  <thead>\n",
       "    <tr style=\"text-align: right;\">\n",
       "      <th></th>\n",
       "      <th>text</th>\n",
       "      <th>label</th>\n",
       "    </tr>\n",
       "  </thead>\n",
       "  <tbody>\n",
       "    <tr>\n",
       "      <th>0</th>\n",
       "      <td>i didnt feel humiliated</td>\n",
       "      <td>0</td>\n",
       "    </tr>\n",
       "    <tr>\n",
       "      <th>1</th>\n",
       "      <td>i can go from feeling so hopeless to so damned...</td>\n",
       "      <td>0</td>\n",
       "    </tr>\n",
       "    <tr>\n",
       "      <th>2</th>\n",
       "      <td>im grabbing a minute to post i feel greedy wrong</td>\n",
       "      <td>3</td>\n",
       "    </tr>\n",
       "    <tr>\n",
       "      <th>3</th>\n",
       "      <td>i am ever feeling nostalgic about the fireplac...</td>\n",
       "      <td>2</td>\n",
       "    </tr>\n",
       "    <tr>\n",
       "      <th>4</th>\n",
       "      <td>i am feeling grouchy</td>\n",
       "      <td>3</td>\n",
       "    </tr>\n",
       "    <tr>\n",
       "      <th>...</th>\n",
       "      <td>...</td>\n",
       "      <td>...</td>\n",
       "    </tr>\n",
       "    <tr>\n",
       "      <th>4995</th>\n",
       "      <td>i know that this pair of socks took about two ...</td>\n",
       "      <td>3</td>\n",
       "    </tr>\n",
       "    <tr>\n",
       "      <th>4996</th>\n",
       "      <td>i can feel the frantic beat of his heart but c...</td>\n",
       "      <td>4</td>\n",
       "    </tr>\n",
       "    <tr>\n",
       "      <th>4997</th>\n",
       "      <td>during lectures</td>\n",
       "      <td>1</td>\n",
       "    </tr>\n",
       "    <tr>\n",
       "      <th>4998</th>\n",
       "      <td>i did feel a little lighter in spirit now that...</td>\n",
       "      <td>3</td>\n",
       "    </tr>\n",
       "    <tr>\n",
       "      <th>4999</th>\n",
       "      <td>i run to him when i feel threatened and insecure</td>\n",
       "      <td>4</td>\n",
       "    </tr>\n",
       "  </tbody>\n",
       "</table>\n",
       "<p>5000 rows × 2 columns</p>\n",
       "</div>"
      ],
      "text/plain": [
       "                                                   text  label\n",
       "0                               i didnt feel humiliated      0\n",
       "1     i can go from feeling so hopeless to so damned...      0\n",
       "2      im grabbing a minute to post i feel greedy wrong      3\n",
       "3     i am ever feeling nostalgic about the fireplac...      2\n",
       "4                                  i am feeling grouchy      3\n",
       "...                                                 ...    ...\n",
       "4995  i know that this pair of socks took about two ...      3\n",
       "4996  i can feel the frantic beat of his heart but c...      4\n",
       "4997                                    during lectures      1\n",
       "4998  i did feel a little lighter in spirit now that...      3\n",
       "4999   i run to him when i feel threatened and insecure      4\n",
       "\n",
       "[5000 rows x 2 columns]"
      ]
     },
     "execution_count": 2,
     "metadata": {},
     "output_type": "execute_result"
    }
   ],
   "source": [
    "# Load the datas and transform them into pd.Dataframe\n",
    "df_dataset = pd.DataFrame(columns=[\"text\", \"label\"])\n",
    "\n",
    "with open(\"emotion_dataset.txt\", \"r\") as datafile:\n",
    "    i = 0\n",
    "    for line in datafile:\n",
    "        json_line = json.loads(line.strip())\n",
    "\n",
    "        # Assert every label associated to a tweet belongs to the expected interval\n",
    "        assert(0 <= json_line[\"label\"] and json_line[\"label\"] <= 5)\n",
    "\n",
    "        df_dataset.loc[i] = [json_line[\"text\"], json_line[\"label\"]]\n",
    "\n",
    "        i += 1\n",
    "\n",
    "\n",
    "df_dataset"
   ]
  },
  {
   "cell_type": "code",
   "execution_count": 3,
   "metadata": {},
   "outputs": [
    {
     "data": {
      "image/png": "[encoded data removed]",
      "text/plain": [
       "<Figure size 640x480 with 2 Axes>"
      ]
     },
     "metadata": {},
     "output_type": "display_data"
    }
   ],
   "source": [
    "# Some funny plots\n",
    "plt.figure()\n",
    "\n",
    "plt.subplot(2,1,1)\n",
    "plt.hist(df_dataset[\"label\"].values, bins=12)\n",
    "plt.xlabel(\"Label\")\n",
    "plt.ylabel(\"Number of tweets\")\n",
    "plt.title(\"Repartition of labels among the dataset\")\n",
    "\n",
    "plt.subplot(2,1,2)\n",
    "plt.hist([len(text) for text in df_dataset[\"text\"].values], bins=70)\n",
    "plt.xlabel(\"Text length\")\n",
    "plt.ylabel(\"Number of texts\")\n",
    "plt.title(\"Histogram of text lengths\")\n",
    "\n",
    "plt.subplots_adjust(hspace=0.6)\n",
    "\n",
    "plt.show()"
   ]
  },
  {
   "cell_type": "code",
   "execution_count": 4,
   "metadata": {},
   "outputs": [],
   "source": [
    "if 0:\n",
    "    # Transform the datas into suitable format for machine learning\n",
    "    nlp = spacy.load(\"en_core_web_sm\")\n",
    "    lemmatized_texts = []\n",
    "\n",
    "    for index, row in df_dataset.iterrows():\n",
    "        text = row[\"text\"]\n",
    "\n",
    "        # Sentence lemmatization\n",
    "        doc = nlp(text)\n",
    "        lemmatized_texts.append(\" \".join([token.lemma_ for token in doc]))\n",
    "\n",
    "    df_dataset[\"lemmatized_text\"] = lemmatized_texts\n",
    "    df_dataset.to_csv(\"df_emotion_dataset.csv\", index=False)"
   ]
  },
  {
   "cell_type": "code",
   "execution_count": 5,
   "metadata": {},
   "outputs": [],
   "source": [
    "# Open the previously created dataset with lemmatized tweets\n",
    "df_dataset = pd.read_csv(\"df_emotion_dataset.csv\")\n",
    "\n",
    "x = df_dataset[\"lemmatized_text\"]\n",
    "y = df_dataset[\"label\"]\n",
    "\n",
    "# Create a CountVectorizer Object\n",
    "vectorizer = CountVectorizer()\n",
    "\n",
    "# Fit and transform the corpus with bag of word method\n",
    "x = vectorizer.fit_transform(x)\n",
    "\n",
    "# Split the dataset into train, validation and test sets\n",
    "X_train, X_test, y_train, y_test = train_test_split(x, y, random_state=42)\n",
    "X_train, X_val, y_train, y_val = train_test_split(X_train, y_train, random_state=12)"
   ]
  },
  {
   "cell_type": "code",
   "execution_count": 6,
   "metadata": {},
   "outputs": [],
   "source": [
    "from sklearn.neighbors import KNeighborsClassifier\n",
    "from sklearn.metrics import accuracy_score, mean_squared_error\n",
    "from sklearn.model_selection import GridSearchCV\n",
    "from sklearn.tree import DecisionTreeClassifier\n",
    "from sklearn.ensemble import BaggingClassifier, RandomForestClassifier, AdaBoostClassifier, VotingClassifier\n",
    "from sklearn.svm import SVC\n",
    "from sklearn.model_selection import StratifiedKFold"
   ]
  },
  {
   "cell_type": "code",
   "execution_count": 7,
   "metadata": {},
   "outputs": [
    {
     "name": "stdout",
     "output_type": "stream",
     "text": [
      "Majority classifier Accuracy: 0.32\n"
     ]
    }
   ],
   "source": [
    "# Majority classifier (copied from lab5)\n",
    "predicted_labels = [y_train.value_counts().idxmax()]*len(y_test)\n",
    "accuracy_majority = accuracy_score(y_test, predicted_labels)\n",
    "print(\"Majority classifier Accuracy:\", accuracy_majority)"
   ]
  },
  {
   "cell_type": "code",
   "execution_count": 8,
   "metadata": {},
   "outputs": [
    {
     "name": "stdout",
     "output_type": "stream",
     "text": [
      "Best acc is 0.364 for number of neibhors = 15.\n"
     ]
    }
   ],
   "source": [
    "# KNN\n",
    "acc = []\n",
    "for i in range(5,100,5):\n",
    "    knn = KNeighborsClassifier(n_neighbors=i)\n",
    "    knn.fit(X_train, y_train)\n",
    "    predicted_knn = knn.predict(X_test)\n",
    "    accuracy_knn = accuracy_score(y_test, predicted_knn)\n",
    "    # print(\"KNN Accuracy:\", accuracy_knn)\n",
    "    acc.append(accuracy_knn)\n",
    "\n",
    "print(f\"Best acc is {np.max(acc)} for number of neibhors = {5 + np.argmax(acc)*5}.\")\n",
    "knn = KNeighborsClassifier(n_neighbors=15)"
   ]
  },
  {
   "cell_type": "code",
   "execution_count": 9,
   "metadata": {},
   "outputs": [
    {
     "name": "stdout",
     "output_type": "stream",
     "text": [
      "Decision Tree Accuracy: 0.7376\n"
     ]
    }
   ],
   "source": [
    "# Decision Trees\n",
    "dec_tree = DecisionTreeClassifier()\n",
    "dec_tree.fit(X_train, y_train)\n",
    "dec_tree_pred = dec_tree.predict(X_test)\n",
    "dec_tree_acc = accuracy_score(y_test, dec_tree_pred)\n",
    "print(\"Decision Tree Accuracy:\", dec_tree_acc)"
   ]
  },
  {
   "cell_type": "code",
   "execution_count": 10,
   "metadata": {},
   "outputs": [
    {
     "name": "stdout",
     "output_type": "stream",
     "text": [
      "Random Forest Accuracy: 0.7176\n"
     ]
    }
   ],
   "source": [
    "# Random Forest\n",
    "rf = RandomForestClassifier()\n",
    "rf.fit(X_train, y_train)\n",
    "predicted_rf = rf.predict(X_test)\n",
    "accuracy_rf = accuracy_score(y_test, predicted_rf)\n",
    "print(\"Random Forest Accuracy:\", accuracy_rf)"
   ]
  },
  {
   "cell_type": "code",
   "execution_count": 11,
   "metadata": {},
   "outputs": [
    {
     "name": "stdout",
     "output_type": "stream",
     "text": [
      "Bagging Accuracy: 0.7384\n"
     ]
    }
   ],
   "source": [
    "# Bagging\n",
    "model_bagging = BaggingClassifier(estimator=DecisionTreeClassifier(), n_estimators=20, random_state=42)\n",
    "model_bagging.fit(X_train, y_train)\n",
    "pred_bagging = model_bagging.predict(X_test)\n",
    "result_bagging = accuracy_score(y_test, pred_bagging)\n",
    "print(\"Bagging Accuracy:\", result_bagging)"
   ]
  },
  {
   "cell_type": "code",
   "execution_count": 46,
   "metadata": {},
   "outputs": [
    {
     "name": "stderr",
     "output_type": "stream",
     "text": [
      "/home/alexis-le-s/miniconda3/envs/int_syst/lib/python3.12/site-packages/sklearn/ensemble/_weight_boosting.py:527: FutureWarning: The SAMME.R algorithm (the default) is deprecated and will be removed in 1.6. Use the SAMME algorithm to circumvent this warning.\n",
      "  warnings.warn(\n"
     ]
    },
    {
     "name": "stdout",
     "output_type": "stream",
     "text": [
      "Boosting Accuracy: 0.7712\n"
     ]
    }
   ],
   "source": [
    "# Boosting\n",
    "model_boosting = AdaBoostClassifier(estimator=DecisionTreeClassifier(), random_state=42)\n",
    "model_boosting.fit(X_train, y_train)\n",
    "pred_boosting = model_boosting.predict(X_test)\n",
    "result_boosting = accuracy_score(y_test, pred_boosting)\n",
    "print(\"Boosting Accuracy:\", result_boosting)"
   ]
  },
  {
   "cell_type": "code",
   "execution_count": 19,
   "metadata": {},
   "outputs": [],
   "source": [
    "def cross_validation_eval(X_train, y_train, classifier, folds=5):\n",
    "    \"\"\"\n",
    "    Test an already trained model using the cross validation pipeline.\n",
    "    \n",
    "    Parameters:\n",
    "    X_train : the training datas without labels\n",
    "    y_train : the labels of the training datas\n",
    "    classifier : the model we want to evaluate\n",
    "    folds : number of subgroups in which we divide the training dataset \n",
    "\n",
    "    \"\"\"\n",
    "    # Create a copy of training data\n",
    "    X_cv = X_train.copy()\n",
    "    y_cv = y_train.copy()\n",
    "\n",
    "    # Initialize variables to store fold-specific evaluation metrics\n",
    "    fold_eval = []\n",
    "\n",
    "    # Initialize k-fold cross-validation\n",
    "    # This implementation (*Stratified*KFolds) respects the class proportion among each folds\n",
    "    skfolds = StratifiedKFold(n_splits=folds, shuffle=True)\n",
    "\n",
    "    for _, (train_index, test_index) in enumerate(skfolds.split(X_cv, y_cv)):\n",
    "        # Select data from train and test based on indices provided by kfold\n",
    "        X_cv_train, X_cv_test = X_cv[train_index], X_cv[test_index]\n",
    "        y_cv_train, y_cv_test = y_cv.iloc[train_index], y_cv.iloc[test_index]\n",
    "\n",
    "        # Train the classifier\n",
    "        classifier.fit(X_cv_train, y_cv_train)\n",
    "\n",
    "        # Predict on the test set\n",
    "        y_cv_pred = classifier.predict(X_cv_test)\n",
    "\n",
    "        # Compute the accuracy metric for this fold\n",
    "        accuracy = accuracy_score(y_cv_test, y_cv_pred)\n",
    "        fold_eval.append(accuracy)\n",
    "\n",
    "    # Calculate the mean performance across all folds for this k\n",
    "    mean_accuracy = np.mean(fold_eval)\n",
    "\n",
    "    return mean_accuracy"
   ]
  },
  {
   "cell_type": "code",
   "execution_count": 13,
   "metadata": {},
   "outputs": [
    {
     "name": "stdout",
     "output_type": "stream",
     "text": [
      "The average score of Decision Tree model for cross validation evaluation is : 0.3452924407248915\n",
      "The average score of Decision Tree model for cross validation evaluation is : 0.7162038646549054\n"
     ]
    }
   ],
   "source": [
    "print(\"The average score of Decision Tree model for cross validation evaluation is :\", cross_validation_eval(X_train, y_train, knn))\n",
    "print(\"The average score of Decision Tree model for cross validation evaluation is :\", cross_validation_eval(X_train, y_train, dec_tree))"
   ]
  },
  {
   "cell_type": "code",
   "execution_count": 14,
   "metadata": {},
   "outputs": [],
   "source": [
    "def hyperparameter_tuning(X_train, y_train, model, parameters_range):\n",
    "    \"\"\"\n",
    "    Hyperparameter tuning using Grid Search\n",
    "    (méchamment pompé du lab5)\n",
    "    \n",
    "    Parameters:\n",
    "    X_train : the training datas unlabeled\n",
    "    y_train : the corresponding labels\n",
    "    model : the model we want to tune the parameters\n",
    "    parameters_range (dict) : range of possible value for parameter n_neighbors\n",
    "\n",
    "    Return:\n",
    "    best_model : the model trained with the best set of parameters\n",
    "    best_val : the corresponding values that train the model best\n",
    "    \"\"\"\n",
    "    grid_search = GridSearchCV(model, parameters_range, cv=3, verbose=3) # cv = cross-validation\n",
    "    grid_search.fit(X_train, y_train)\n",
    "\n",
    "    # Get the best model and corresponding values\n",
    "    best_model = grid_search.best_estimator_\n",
    "    best_val = {}\n",
    "    for param in parameters_range.keys():\n",
    "        best_val[param] = grid_search.best_params_[param]\n",
    "\n",
    "    return best_model, best_val"
   ]
  },
  {
   "cell_type": "code",
   "execution_count": 15,
   "metadata": {},
   "outputs": [
    {
     "name": "stdout",
     "output_type": "stream",
     "text": [
      "Fitting 3 folds for each of 40 candidates, totalling 120 fits\n",
      "[CV 1/3] END .......max_depth=10, splitter=best;, score=0.375 total time=   0.0s\n",
      "[CV 2/3] END .......max_depth=10, splitter=best;, score=0.388 total time=   0.0s\n",
      "[CV 3/3] END .......max_depth=10, splitter=best;, score=0.377 total time=   0.0s\n",
      "[CV 1/3] END .....max_depth=10, splitter=random;, score=0.377 total time=   0.0s\n",
      "[CV 2/3] END .....max_depth=10, splitter=random;, score=0.396 total time=   0.0s\n",
      "[CV 3/3] END .....max_depth=10, splitter=random;, score=0.377 total time=   0.0s\n",
      "[CV 1/3] END .......max_depth=11, splitter=best;, score=0.383 total time=   0.0s\n",
      "[CV 2/3] END .......max_depth=11, splitter=best;, score=0.396 total time=   0.0s\n",
      "[CV 3/3] END .......max_depth=11, splitter=best;, score=0.380 total time=   0.0s\n",
      "[CV 1/3] END .....max_depth=11, splitter=random;, score=0.387 total time=   0.0s\n",
      "[CV 2/3] END .....max_depth=11, splitter=random;, score=0.399 total time=   0.0s\n",
      "[CV 3/3] END .....max_depth=11, splitter=random;, score=0.379 total time=   0.0s\n",
      "[CV 1/3] END .......max_depth=12, splitter=best;, score=0.389 total time=   0.0s\n",
      "[CV 2/3] END .......max_depth=12, splitter=best;, score=0.404 total time=   0.0s\n",
      "[CV 3/3] END .......max_depth=12, splitter=best;, score=0.383 total time=   0.0s\n",
      "[CV 1/3] END .....max_depth=12, splitter=random;, score=0.388 total time=   0.0s\n",
      "[CV 2/3] END .....max_depth=12, splitter=random;, score=0.399 total time=   0.0s\n",
      "[CV 3/3] END .....max_depth=12, splitter=random;, score=0.383 total time=   0.0s\n",
      "[CV 1/3] END .......max_depth=13, splitter=best;, score=0.396 total time=   0.0s\n",
      "[CV 2/3] END .......max_depth=13, splitter=best;, score=0.406 total time=   0.0s\n",
      "[CV 3/3] END .......max_depth=13, splitter=best;, score=0.380 total time=   0.0s\n",
      "[CV 1/3] END .....max_depth=13, splitter=random;, score=0.394 total time=   0.0s\n",
      "[CV 2/3] END .....max_depth=13, splitter=random;, score=0.403 total time=   0.0s\n",
      "[CV 3/3] END .....max_depth=13, splitter=random;, score=0.380 total time=   0.0s\n",
      "[CV 1/3] END .......max_depth=14, splitter=best;, score=0.394 total time=   0.0s\n",
      "[CV 2/3] END .......max_depth=14, splitter=best;, score=0.409 total time=   0.0s\n",
      "[CV 3/3] END .......max_depth=14, splitter=best;, score=0.381 total time=   0.0s\n",
      "[CV 1/3] END .....max_depth=14, splitter=random;, score=0.401 total time=   0.0s\n",
      "[CV 2/3] END .....max_depth=14, splitter=random;, score=0.410 total time=   0.0s\n",
      "[CV 3/3] END .....max_depth=14, splitter=random;, score=0.385 total time=   0.0s\n",
      "[CV 1/3] END .......max_depth=15, splitter=best;, score=0.400 total time=   0.0s\n",
      "[CV 2/3] END .......max_depth=15, splitter=best;, score=0.412 total time=   0.0s\n",
      "[CV 3/3] END .......max_depth=15, splitter=best;, score=0.382 total time=   0.0s\n",
      "[CV 1/3] END .....max_depth=15, splitter=random;, score=0.398 total time=   0.0s\n",
      "[CV 2/3] END .....max_depth=15, splitter=random;, score=0.418 total time=   0.0s\n",
      "[CV 3/3] END .....max_depth=15, splitter=random;, score=0.387 total time=   0.0s\n",
      "[CV 1/3] END .......max_depth=16, splitter=best;, score=0.398 total time=   0.0s\n",
      "[CV 2/3] END .......max_depth=16, splitter=best;, score=0.422 total time=   0.0s\n",
      "[CV 3/3] END .......max_depth=16, splitter=best;, score=0.393 total time=   0.0s\n",
      "[CV 1/3] END .....max_depth=16, splitter=random;, score=0.405 total time=   0.0s\n",
      "[CV 2/3] END .....max_depth=16, splitter=random;, score=0.415 total time=   0.0s\n",
      "[CV 3/3] END .....max_depth=16, splitter=random;, score=0.384 total time=   0.0s\n",
      "[CV 1/3] END .......max_depth=17, splitter=best;, score=0.401 total time=   0.0s\n",
      "[CV 2/3] END .......max_depth=17, splitter=best;, score=0.422 total time=   0.0s\n",
      "[CV 3/3] END .......max_depth=17, splitter=best;, score=0.390 total time=   0.0s\n",
      "[CV 1/3] END .....max_depth=17, splitter=random;, score=0.405 total time=   0.0s\n",
      "[CV 2/3] END .....max_depth=17, splitter=random;, score=0.422 total time=   0.0s\n",
      "[CV 3/3] END .....max_depth=17, splitter=random;, score=0.392 total time=   0.0s\n",
      "[CV 1/3] END .......max_depth=18, splitter=best;, score=0.401 total time=   0.0s\n",
      "[CV 2/3] END .......max_depth=18, splitter=best;, score=0.425 total time=   0.0s\n",
      "[CV 3/3] END .......max_depth=18, splitter=best;, score=0.394 total time=   0.0s\n",
      "[CV 1/3] END .....max_depth=18, splitter=random;, score=0.403 total time=   0.0s\n",
      "[CV 2/3] END .....max_depth=18, splitter=random;, score=0.424 total time=   0.1s\n",
      "[CV 3/3] END .....max_depth=18, splitter=random;, score=0.393 total time=   0.0s\n",
      "[CV 1/3] END .......max_depth=19, splitter=best;, score=0.405 total time=   0.0s\n",
      "[CV 2/3] END .......max_depth=19, splitter=best;, score=0.423 total time=   0.0s\n",
      "[CV 3/3] END .......max_depth=19, splitter=best;, score=0.395 total time=   0.0s\n",
      "[CV 1/3] END .....max_depth=19, splitter=random;, score=0.405 total time=   0.0s\n",
      "[CV 2/3] END .....max_depth=19, splitter=random;, score=0.427 total time=   0.0s\n",
      "[CV 3/3] END .....max_depth=19, splitter=random;, score=0.396 total time=   0.0s\n",
      "[CV 1/3] END .......max_depth=20, splitter=best;, score=0.401 total time=   0.0s\n",
      "[CV 2/3] END .......max_depth=20, splitter=best;, score=0.416 total time=   0.0s\n",
      "[CV 3/3] END .......max_depth=20, splitter=best;, score=0.394 total time=   0.0s\n",
      "[CV 1/3] END .....max_depth=20, splitter=random;, score=0.407 total time=   0.0s\n",
      "[CV 2/3] END .....max_depth=20, splitter=random;, score=0.422 total time=   0.0s\n",
      "[CV 3/3] END .....max_depth=20, splitter=random;, score=0.395 total time=   0.0s\n",
      "[CV 1/3] END .......max_depth=21, splitter=best;, score=0.402 total time=   0.0s\n",
      "[CV 2/3] END .......max_depth=21, splitter=best;, score=0.427 total time=   0.0s\n",
      "[CV 3/3] END .......max_depth=21, splitter=best;, score=0.397 total time=   0.0s\n",
      "[CV 1/3] END .....max_depth=21, splitter=random;, score=0.410 total time=   0.0s\n",
      "[CV 2/3] END .....max_depth=21, splitter=random;, score=0.426 total time=   0.0s\n",
      "[CV 3/3] END .....max_depth=21, splitter=random;, score=0.400 total time=   0.0s\n",
      "[CV 1/3] END .......max_depth=22, splitter=best;, score=0.404 total time=   0.0s\n",
      "[CV 2/3] END .......max_depth=22, splitter=best;, score=0.424 total time=   0.0s\n",
      "[CV 3/3] END .......max_depth=22, splitter=best;, score=0.398 total time=   0.0s\n",
      "[CV 1/3] END .....max_depth=22, splitter=random;, score=0.404 total time=   0.0s\n",
      "[CV 2/3] END .....max_depth=22, splitter=random;, score=0.426 total time=   0.0s\n",
      "[CV 3/3] END .....max_depth=22, splitter=random;, score=0.403 total time=   0.0s\n",
      "[CV 1/3] END .......max_depth=23, splitter=best;, score=0.403 total time=   0.0s\n",
      "[CV 2/3] END .......max_depth=23, splitter=best;, score=0.424 total time=   0.0s\n",
      "[CV 3/3] END .......max_depth=23, splitter=best;, score=0.406 total time=   0.0s\n",
      "[CV 1/3] END .....max_depth=23, splitter=random;, score=0.412 total time=   0.0s\n",
      "[CV 2/3] END .....max_depth=23, splitter=random;, score=0.428 total time=   0.0s\n",
      "[CV 3/3] END .....max_depth=23, splitter=random;, score=0.407 total time=   0.0s\n",
      "[CV 1/3] END .......max_depth=24, splitter=best;, score=0.401 total time=   0.0s\n",
      "[CV 2/3] END .......max_depth=24, splitter=best;, score=0.430 total time=   0.0s\n",
      "[CV 3/3] END .......max_depth=24, splitter=best;, score=0.402 total time=   0.0s\n",
      "[CV 1/3] END .....max_depth=24, splitter=random;, score=0.418 total time=   0.0s\n",
      "[CV 2/3] END .....max_depth=24, splitter=random;, score=0.430 total time=   0.0s\n",
      "[CV 3/3] END .....max_depth=24, splitter=random;, score=0.402 total time=   0.0s\n",
      "[CV 1/3] END .......max_depth=25, splitter=best;, score=0.401 total time=   0.0s\n",
      "[CV 2/3] END .......max_depth=25, splitter=best;, score=0.429 total time=   0.0s\n",
      "[CV 3/3] END .......max_depth=25, splitter=best;, score=0.404 total time=   0.0s\n",
      "[CV 1/3] END .....max_depth=25, splitter=random;, score=0.417 total time=   0.0s\n",
      "[CV 2/3] END .....max_depth=25, splitter=random;, score=0.427 total time=   0.0s\n",
      "[CV 3/3] END .....max_depth=25, splitter=random;, score=0.409 total time=   0.0s\n",
      "[CV 1/3] END .......max_depth=26, splitter=best;, score=0.403 total time=   0.0s\n",
      "[CV 2/3] END .......max_depth=26, splitter=best;, score=0.431 total time=   0.0s\n",
      "[CV 3/3] END .......max_depth=26, splitter=best;, score=0.401 total time=   0.0s\n",
      "[CV 1/3] END .....max_depth=26, splitter=random;, score=0.416 total time=   0.0s\n",
      "[CV 2/3] END .....max_depth=26, splitter=random;, score=0.436 total time=   0.0s\n",
      "[CV 3/3] END .....max_depth=26, splitter=random;, score=0.406 total time=   0.0s\n",
      "[CV 1/3] END .......max_depth=27, splitter=best;, score=0.407 total time=   0.0s\n",
      "[CV 2/3] END .......max_depth=27, splitter=best;, score=0.438 total time=   0.0s\n",
      "[CV 3/3] END .......max_depth=27, splitter=best;, score=0.410 total time=   0.0s\n",
      "[CV 1/3] END .....max_depth=27, splitter=random;, score=0.421 total time=   0.0s\n",
      "[CV 2/3] END .....max_depth=27, splitter=random;, score=0.441 total time=   0.0s\n",
      "[CV 3/3] END .....max_depth=27, splitter=random;, score=0.415 total time=   0.0s\n",
      "[CV 1/3] END .......max_depth=28, splitter=best;, score=0.412 total time=   0.0s\n",
      "[CV 2/3] END .......max_depth=28, splitter=best;, score=0.438 total time=   0.0s\n",
      "[CV 3/3] END .......max_depth=28, splitter=best;, score=0.411 total time=   0.0s\n",
      "[CV 1/3] END .....max_depth=28, splitter=random;, score=0.418 total time=   0.0s\n",
      "[CV 2/3] END .....max_depth=28, splitter=random;, score=0.442 total time=   0.0s\n",
      "[CV 3/3] END .....max_depth=28, splitter=random;, score=0.413 total time=   0.0s\n",
      "[CV 1/3] END .......max_depth=29, splitter=best;, score=0.415 total time=   0.0s\n",
      "[CV 2/3] END .......max_depth=29, splitter=best;, score=0.446 total time=   0.0s\n",
      "[CV 3/3] END .......max_depth=29, splitter=best;, score=0.413 total time=   0.0s\n",
      "[CV 1/3] END .....max_depth=29, splitter=random;, score=0.418 total time=   0.0s\n",
      "[CV 2/3] END .....max_depth=29, splitter=random;, score=0.435 total time=   0.0s\n",
      "[CV 3/3] END .....max_depth=29, splitter=random;, score=0.409 total time=   0.0s\n",
      "{'splitter': 'random', 'max_depth': 27}\n"
     ]
    }
   ],
   "source": [
    "parame = {\"splitter\" : [\"best\", \"random\"], \"max_depth\": list(range(10,30))}\n",
    "print(hyperparameter_tuning(X_train, y_train, DecisionTreeClassifier(), parame)[1])"
   ]
  },
  {
   "cell_type": "markdown",
   "metadata": {},
   "source": [
    "## Neural network in pytorch using pretrained embeddings with the hugging face librairie"
   ]
  },
  {
   "cell_type": "code",
   "execution_count": 37,
   "metadata": {},
   "outputs": [],
   "source": [
    "from datasets import Dataset\n",
    "from torch.utils.data import DataLoader\n",
    "import pandas as pd\n",
    "from sklearn.model_selection import train_test_split\n",
    "from sentence_transformers import SentenceTransformer\n",
    "import torch\n",
    "\n",
    "class EmotionDataLoader:\n",
    "    def __init__(self, csv_path, model_name='all-MiniLM-L6-v2', batch_size=16):\n",
    "        \"\"\"\n",
    "        Initialize the data loader with a more sophisticated embedding model.\n",
    "        \n",
    "        Args:\n",
    "            csv_path: Path to the CSV file containing text and labels\n",
    "            model_name: SentenceTransformer model to use for embeddings\n",
    "            batch_size: Batch size for DataLoader\n",
    "        \"\"\"\n",
    "        self.csv_path = csv_path\n",
    "        self.batch_size = batch_size\n",
    "        # Initialize the sentence transformer model\n",
    "        self.embedding_model = SentenceTransformer(model_name)\n",
    "        # Set embedding dimension based on model\n",
    "        self.embedding_dim = self.embedding_model.get_sentence_embedding_dimension()\n",
    "        \n",
    "    def load_data(self):\n",
    "        \"\"\"Load and split the data\"\"\"\n",
    "        df = pd.read_csv(self.csv_path)\n",
    "        train_df, val_df = train_test_split(\n",
    "            df, \n",
    "            test_size=0.2, \n",
    "            random_state=42, \n",
    "            stratify=df['label']\n",
    "        )\n",
    "        return train_df, val_df\n",
    "    \n",
    "    def generate_embeddings(self, texts):\n",
    "        \"\"\"\n",
    "        Generate embeddings for a list of texts using SentenceTransformer.\n",
    "        Returns tensor of shape (n_texts, embedding_dim)\n",
    "        \"\"\"\n",
    "        with torch.no_grad():\n",
    "            embeddings = self.embedding_model.encode(\n",
    "                texts,\n",
    "                batch_size=self.batch_size,\n",
    "                show_progress_bar=False,\n",
    "                convert_to_tensor=True\n",
    "            )\n",
    "        return embeddings\n",
    "    \n",
    "    def create_dataset(self, df):\n",
    "        \"\"\"Create a PyTorch dataset from DataFrame with embeddings\"\"\"\n",
    "        # Generate embeddings for all texts\n",
    "        embeddings = self.generate_embeddings(df['text'].tolist())\n",
    "        labels = torch.tensor(df['label'].values)\n",
    "        \n",
    "        # Create TensorDataset\n",
    "        dataset = torch.utils.data.TensorDataset(embeddings, labels)\n",
    "        return dataset\n",
    "    \n",
    "    def prepare_dataloader(self):\n",
    "        \"\"\"Prepare train and validation dataloaders with embeddings\"\"\"\n",
    "        # Load and split data\n",
    "        train_df, val_df = self.load_data()\n",
    "        \n",
    "        # Create datasets with embeddings\n",
    "        train_dataset = self.create_dataset(train_df)\n",
    "        val_dataset = self.create_dataset(val_df)\n",
    "        \n",
    "        # Create DataLoaders\n",
    "        train_dataloader = DataLoader(\n",
    "            train_dataset,\n",
    "            batch_size=self.batch_size,\n",
    "            shuffle=True\n",
    "        )\n",
    "        val_dataloader = DataLoader(\n",
    "            val_dataset,\n",
    "            batch_size=self.batch_size,\n",
    "            shuffle=False\n",
    "        )\n",
    "        \n",
    "        return train_dataloader, val_dataloader, self.embedding_dim\n",
    "    \n",
    "\n",
    "# Initialize the data loader\n",
    "loader = EmotionDataLoader(\n",
    "    csv_path='df_emotion_dataset.csv',\n",
    "    model_name='all-MiniLM-L6-v2',  # You can try other models too\n",
    "    batch_size=16\n",
    ")\n",
    "\n",
    "# Get dataloaders and embedding dimension\n",
    "train_loader, val_loader, embedding_dim = loader.prepare_dataloader()\n"
   ]
  },
  {
   "cell_type": "code",
   "execution_count": 29,
   "metadata": {},
   "outputs": [],
   "source": [
    "import torch\n",
    "import torch.nn as nn\n",
    "from transformers import AutoModel\n",
    "\n",
    "class SimpleLinearClassifier(nn.Module):\n",
    "    def __init__(self, input_size=128, num_classes=6):\n",
    "        super().__init__()\n",
    "        self.classifier = nn.Linear(input_size, num_classes)\n",
    "        \n",
    "    \n",
    "    def forward(self, x):\n",
    "        x = x.to(torch.float32)\n",
    "        return self.classifier(x)\n",
    "    \n",
    "\n",
    "class model2(nn.Module):\n",
    "    def __init__(self, input_size=128, num_classes=6):\n",
    "        super().__init__()\n",
    "        self.linear1 = nn.Linear(input_size, 512)\n",
    "        self.relu = nn.ReLU()\n",
    "        self.linear2 = nn.Linear(512, num_classes)\n",
    "        \n",
    "    \n",
    "    def forward(self, x):\n",
    "        x = x.to(torch.float32)\n",
    "        return self.linear2(self.relu(self.linear1(x)))\n",
    "    \n",
    "\n",
    "class model3(nn.Module):\n",
    "    def __init__(self, input_size=128, num_classes=6):\n",
    "        super().__init__()\n",
    "        self.linear1 = nn.Linear(input_size, 8*input_size)\n",
    "        self.relu = nn.ReLU()\n",
    "        self.linear2 = nn.Linear(8*input_size, 4*input_size)\n",
    "        self.final = nn.Linear(4*input_size, num_classes)\n",
    "\n",
    "    def forward(self, x):\n",
    "        x = x.to(torch.float32)\n",
    "        x = self.relu(self.linear1(x))\n",
    "        x = self.relu(self.linear2(x))\n",
    "        return self.final(x)\n",
    "        \n",
    "    \n",
    "\n",
    "        \n"
   ]
  },
  {
   "cell_type": "code",
   "execution_count": 51,
   "metadata": {},
   "outputs": [],
   "source": [
    "def train(model, train_dataloader, val_dataloader, device, num_epochs=100, lr=1e-3):\n",
    "    \"\"\"Train the model and plot loss evoution\"\"\"\n",
    "    # Define loss function and optimizer\n",
    "    criterion = nn.CrossEntropyLoss()\n",
    "    optimizer = torch.optim.Adam(model.parameters(), lr=lr)\n",
    "\n",
    "    trainings_loss = []\n",
    "    val_loss = []\n",
    "    accuracy = []\n",
    "\n",
    "    # Training loop\n",
    "    for epoch in range(num_epochs):\n",
    "        print(f'Epoch {epoch+1}/{num_epochs}')\n",
    "        model.train()\n",
    "        for inputs, labels in train_dataloader:\n",
    "            inputs = inputs.to(device)\n",
    "            labels = labels.to(device)\n",
    "            optimizer.zero_grad()\n",
    "            outputs = model(inputs)\n",
    "            loss = criterion(outputs, labels)\n",
    "            loss.backward()\n",
    "            optimizer.step()\n",
    "\n",
    "        # loss on \n",
    "        trainings_loss.append(loss.item())\n",
    "        print(f'Training loss: {loss.item()}')\n",
    "\n",
    "\n",
    "        # validation loss and accuracy at this epoch \n",
    "        model.eval()\n",
    "        val_loss_temp = []\n",
    "        temp_accuracy = []\n",
    "        for inputs, labels in val_dataloader:\n",
    "            inputs = inputs.to(device)\n",
    "            labels = labels.to(device)\n",
    "            outputs = model(inputs)\n",
    "\n",
    "            # Compute accuracy\n",
    "            predicted = torch.argmax(outputs, dim=1)\n",
    "            temp_accuracy.append((predicted == labels).sum().item() / len(labels))   \n",
    "            loss = criterion(outputs, labels)\n",
    "            val_loss_temp.append(loss.item())\n",
    "\n",
    "        \n",
    "\n",
    "        accuracy.append(np.mean(temp_accuracy))\n",
    "        val_loss.append(np.mean(val_loss_temp))\n",
    "        print(f'Validation loss: {np.mean(val_loss_temp)}')\n",
    "        print(f'Validation accuracy: {np.mean(temp_accuracy)}')\n",
    "\n",
    "    \n",
    "    # plot loss evolution (validation and training)\n",
    "    plt.plot(trainings_loss)\n",
    "    plt.plot(val_loss)\n",
    "    plt.xlabel('Epoch')\n",
    "    plt.ylabel('Loss')\n",
    "    plt.title('Training loss evolution')\n",
    "    plt.legend(['Training', 'Validation'])\n",
    "\n",
    "    #plot accuracy evolution\n",
    "    plt.figure()\n",
    "    plt.plot(accuracy)\n",
    "    plt.xlabel('Epoch')\n",
    "    plt.ylabel('Accuracy')\n",
    "    plt.title('Accuracy evolution')\n",
    "\n",
    "    return accuracy[-1]\n",
    "\n"
   ]
  },
  {
   "cell_type": "code",
   "execution_count": 19,
   "metadata": {},
   "outputs": [
    {
     "name": "stdout",
     "output_type": "stream",
     "text": [
      "Loading the CSV file: text.csv\n",
      "Saved 10.0% of the data to: reduced_text.csv\n"
     ]
    }
   ],
   "source": [
    "def extract_csv_fraction(input_file, output_file, fraction=0.10, random=True):\n",
    "    \"\"\"\n",
    "    Extract a fraction of rows from a CSV file and save it to a new file.\n",
    "\n",
    "    Parameters:\n",
    "        input_file (str): Path to the input CSV file.\n",
    "        output_file (str): Path to save the reduced CSV file.\n",
    "        fraction (float): Fraction of rows to extract (default is 10%).\n",
    "        random (bool): Whether to sample rows randomly (default is True).\n",
    "    \"\"\"\n",
    "    # Load the CSV file\n",
    "    print(f\"Loading the CSV file: {input_file}\")\n",
    "    data = pd.read_csv(input_file)\n",
    "    \n",
    "    # Extract a fraction of the data\n",
    "    if random:\n",
    "        sampled_data = data.sample(frac=fraction, random_state=42)  # Random sampling\n",
    "    else:\n",
    "        sampled_data = data.head(int(len(data) * fraction))  # Take top rows\n",
    "    \n",
    "    # drop the column unmaed\n",
    "    sampled_data = sampled_data.drop(columns=sampled_data.columns[0])\n",
    "    # Save the sampled data to a new file\n",
    "    sampled_data.to_csv(output_file, index=False)\n",
    "    print(f\"Saved {fraction*100}% of the data to: {output_file}\")\n",
    "\n",
    "# Example usage:\n",
    "# extract_csv_fraction(\"large_dataset.csv\", \"reduced_dataset.csv\", fraction=0.10, random=True)\n",
    "\n",
    "extract_csv_fraction(\"text.csv\", \"reduced_text.csv\", fraction=0.10, random=True)\n"
   ]
  },
  {
   "cell_type": "code",
   "execution_count": 52,
   "metadata": {},
   "outputs": [
    {
     "name": "stdout",
     "output_type": "stream",
     "text": [
      "Epoch 1/10\n",
      "Training loss: 1.45538330078125\n",
      "Validation loss: 1.16189300919336\n",
      "Validation accuracy: 0.5922619047619048\n",
      "Epoch 2/10\n",
      "Training loss: 0.7607305645942688\n",
      "Validation loss: 1.0184742429899791\n",
      "Validation accuracy: 0.6369047619047619\n",
      "Epoch 3/10\n",
      "Training loss: 0.6288830041885376\n",
      "Validation loss: 0.9887338905107408\n",
      "Validation accuracy: 0.6388888888888888\n",
      "Epoch 4/10\n",
      "Training loss: 0.7633376717567444\n",
      "Validation loss: 0.9608248836464353\n",
      "Validation accuracy: 0.6517857142857143\n",
      "Epoch 5/10\n",
      "Training loss: 0.4048638939857483\n",
      "Validation loss: 0.9466371167273748\n",
      "Validation accuracy: 0.6498015873015873\n",
      "Epoch 6/10\n",
      "Training loss: 0.5598477721214294\n",
      "Validation loss: 0.9370820725721026\n",
      "Validation accuracy: 0.6498015873015873\n",
      "Epoch 7/10\n",
      "Training loss: 0.7262908220291138\n",
      "Validation loss: 0.9428413515053098\n",
      "Validation accuracy: 0.6498015873015873\n",
      "Epoch 8/10\n",
      "Training loss: 0.16756275296211243\n",
      "Validation loss: 0.9518201464698428\n",
      "Validation accuracy: 0.6636904761904762\n",
      "Epoch 9/10\n",
      "Training loss: 0.585983395576477\n",
      "Validation loss: 0.9650602196417157\n",
      "Validation accuracy: 0.6597222222222222\n",
      "Epoch 10/10\n",
      "Training loss: 0.3868977427482605\n",
      "Validation loss: 0.9963261967613584\n",
      "Validation accuracy: 0.6547619047619048\n"
     ]
    },
    {
     "data": {
      "text/plain": [
       "0.6547619047619048"
      ]
     },
     "execution_count": 52,
     "metadata": {},
     "output_type": "execute_result"
    },
    {
     "data": {
      "image/png": "[encoded data removed]",
      "text/plain": [
       "<Figure size 640x480 with 1 Axes>"
      ]
     },
     "metadata": {},
     "output_type": "display_data"
    },
    {
     "data": {
      "image/png": "[encoded data removed]",
      "text/plain": [
       "<Figure size 640x480 with 1 Axes>"
      ]
     },
     "metadata": {},
     "output_type": "display_data"
    }
   ],
   "source": [
    "#Putting all together\n",
    "device = torch.device('mps' if torch.backends.mps.is_available() else 'cpu')\n",
    "# Load the data\n",
    "data_loader = EmotionDataLoader(\n",
    "    csv_path='df_emotion_dataset.csv',\n",
    "    model_name='all-MiniLM-L6-v2',  # You can try other models too\n",
    "    batch_size=16\n",
    ")\n",
    "train_dataloader, val_dataloader, emb_size = data_loader.prepare_dataloader()\n",
    "\n",
    "# Create the model\n",
    "model = model3(input_size=emb_size, num_classes=6)\n",
    "model.to(device)\n",
    "\n",
    "# Train the model\n",
    "train(model, train_dataloader, val_dataloader, num_epochs=10, lr=1e-4, device=device)\n"
   ]
  },
  {
   "cell_type": "code",
   "execution_count": 61,
   "metadata": {},
   "outputs": [
    {
     "name": "stdout",
     "output_type": "stream",
     "text": [
      "tensor([[-2.1791,  1.0138, -0.1117,  0.1213, -1.1586, -2.1756]],\n",
      "       device='mps:0')\n",
      "torch.Size([1, 6])\n"
     ]
    },
    {
     "data": {
      "text/plain": [
       "'joy'"
      ]
     },
     "execution_count": 61,
     "metadata": {},
     "output_type": "execute_result"
    }
   ],
   "source": [
    "def use_with_example(model, sentence, data_loader = data_loader ):\n",
    "    \"\"\"Use the model to predict the emotion of a sentence\"\"\"\n",
    "    # Tokenize the input sentence\n",
    "    inputs = data_loader.generate_embeddings([sentence])\n",
    "    inputs = inputs.to(device)\n",
    "    model.eval()\n",
    "    # Get the model prediction\n",
    "    with torch.no_grad(): \n",
    "        outputs = model(inputs)\n",
    "\n",
    "    print(outputs)\n",
    "    print(outputs.shape)\n",
    "    predicted = torch.argmax(outputs, dim=1)\n",
    "    emotions = [\"sadness\", \"joy\", \"love\", \"anger\", \"fear\", \"surprise\"]\n",
    "    return emotions[predicted.item()]\n",
    "\n",
    "\n",
    "use_with_example(model, \"I am in love with her\" )\n",
    "\n",
    "  "
   ]
  },
  {
   "cell_type": "code",
   "execution_count": null,
   "metadata": {},
   "outputs": [],
   "source": []
  },
  {
   "cell_type": "code",
   "execution_count": null,
   "metadata": {},
   "outputs": [],
   "source": []
  },
  {
   "cell_type": "code",
   "execution_count": null,
   "metadata": {},
   "outputs": [],
   "source": []
  }
 ],
 "metadata": {
  "kernelspec": {
   "display_name": "intSyst",
   "language": "python",
   "name": "python3"
  },
  "language_info": {
   "codemirror_mode": {
    "name": "ipython",
    "version": 3
   },
   "file_extension": ".py",
   "mimetype": "text/x-python",
   "name": "python",
   "nbconvert_exporter": "python",
   "pygments_lexer": "ipython3",
   "version": "3.12.2"
  }
 },
 "nbformat": 4,
 "nbformat_minor": 2
}
