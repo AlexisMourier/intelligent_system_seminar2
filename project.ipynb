{
 "cells": [
  {
   "cell_type": "code",
   "execution_count": 1,
   "metadata": {},
   "outputs": [
    {
     "name": "stdout",
     "output_type": "stream",
     "text": [
      "{'text': 'i didnt feel humiliated', 'label': 0}\n",
      "{'text': 'i can go from feeling so hopeless to so damned hopeful just from being around someone who cares and is awake', 'label': 0}\n",
      "{'text': 'im grabbing a minute to post i feel greedy wrong', 'label': 3}\n",
      "{'text': 'i am ever feeling nostalgic about the fireplace i will know that it is still on the property', 'label': 2}\n",
      "{'text': 'i am feeling grouchy', 'label': 3}\n"
     ]
    }
   ],
   "source": [
    "import json\n",
    "\n",
    "# Chemin vers le fichier\n",
    "file_path = \"emotion_dataset.txt\"\n",
    "\n",
    "# Lecture du fichier\n",
    "with open(file_path, \"r\", encoding=\"utf-8\") as file:\n",
    "    i = 0\n",
    "    for line in file:\n",
    "        if i<5:\n",
    "            # Charger chaque ligne comme un objet JSON\n",
    "            record = json.loads(line.strip())\n",
    "            print(record[\"text\"])\n",
    "            i += 1"
   ]
  }
 ],
 "metadata": {
  "kernelspec": {
   "display_name": "venv",
   "language": "python",
   "name": "python3"
  },
  "language_info": {
   "codemirror_mode": {
    "name": "ipython",
    "version": 3
   },
   "file_extension": ".py",
   "mimetype": "text/x-python",
   "name": "python",
   "nbconvert_exporter": "python",
   "pygments_lexer": "ipython3",
   "version": "3.12.2"
  }
 },
 "nbformat": 4,
 "nbformat_minor": 2
}
