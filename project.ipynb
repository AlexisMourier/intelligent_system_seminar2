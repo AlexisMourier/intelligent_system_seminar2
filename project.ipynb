{
 "cells": [
  {
   "cell_type": "code",
   "execution_count": 2,
   "metadata": {},
   "outputs": [
    {
     "name": "stdout",
     "output_type": "stream",
     "text": [
      "Original: i didnt feel humiliated, Lemmatized: I do not feel humiliated, Label: 0\n",
      "Original: i can go from feeling so hopeless to so damned hopeful just from being around someone who cares and is awake, Lemmatized: I can go from feel so hopeless to so damned hopeful just from be around someone who care and be awake, Label: 0\n",
      "Original: im grabbing a minute to post i feel greedy wrong, Lemmatized: I m grab a minute to post I feel greedy wrong, Label: 3\n",
      "Original: i am ever feeling nostalgic about the fireplace i will know that it is still on the property, Lemmatized: I be ever feel nostalgic about the fireplace I will know that it be still on the property, Label: 2\n",
      "Original: i am feeling grouchy, Lemmatized: I be feel grouchy, Label: 3\n"
     ]
    }
   ],
   "source": [
    "import json\n",
    "import spacy\n",
    "\n",
    "# Charger le modèle linguistique de spaCy\n",
    "nlp = spacy.load(\"en_core_web_sm\")\n",
    "\n",
    "# Chemin vers le fichier\n",
    "file_path = \"emotion_dataset.txt\"\n",
    "\n",
    "# Lecture et lemmatisation\n",
    "lemmatized_data = []\n",
    "\n",
    "with open(file_path, \"r\", encoding=\"utf-8\") as file:\n",
    "    i=0\n",
    "    for line in file:\n",
    "        if i < 5:\n",
    "            # Charger chaque ligne comme un objet JSON\n",
    "            record = json.loads(line.strip())\n",
    "            \n",
    "            # Analyse de la phrase avec spaCy\n",
    "            doc = nlp(record[\"text\"])\n",
    "            \n",
    "            # Lemmatisation de chaque mot\n",
    "            lemmatized_text = \" \".join([token.lemma_ for token in doc])\n",
    "            \n",
    "            # Ajouter la phrase lemmatisée au résultat\n",
    "            record[\"lemmatized_text\"] = lemmatized_text\n",
    "            lemmatized_data.append(record)\n",
    "\n",
    "            i+=1\n",
    "        else:\n",
    "            break\n",
    "\n",
    "# Afficher les données avec lemmatisation\n",
    "for entry in lemmatized_data:\n",
    "    print(f\"Original: {entry['text']}, Lemmatized: {entry['lemmatized_text']}, Label: {entry['label']}\")\n"
   ]
  }
 ],
 "metadata": {
  "kernelspec": {
   "display_name": "venv",
   "language": "python",
   "name": "python3"
  },
  "language_info": {
   "codemirror_mode": {
    "name": "ipython",
    "version": 3
   },
   "file_extension": ".py",
   "mimetype": "text/x-python",
   "name": "python",
   "nbconvert_exporter": "python",
   "pygments_lexer": "ipython3",
   "version": "3.12.8"
  }
 },
 "nbformat": 4,
 "nbformat_minor": 2
}
